{
 "cells": [
  {
   "cell_type": "markdown",
   "metadata": {},
   "source": [
    "# Discrete Distribution Sampling"
   ]
  },
  {
   "cell_type": "markdown",
   "metadata": {},
   "source": [
    "We will write a function `random_discrete(p)` that accepts a list p of probabilities, which sum to $1$,  and returns a random integer that takes value i with probabililty `p[i]`, for each i, every time it is called.  For example if `p=[.3,.6,.1]` then `random_discrete(p)` should be 0 with probability .3, 1 with probability .6, and 2 with probability .1.  If p has negative entries or the entries do not sum to 1 (within some small tolerance such as 1e-10) then the function will print an error and return `None`."
   ]
  },
  {
   "cell_type": "code",
   "execution_count": 1,
   "metadata": {},
   "outputs": [],
   "source": [
    "from random import random,randrange\n",
    "\n",
    "import matplotlib.pyplot as plt\n",
    "from math import *\n",
    "import numpy as np"
   ]
  },
  {
   "cell_type": "code",
   "execution_count": 2,
   "metadata": {},
   "outputs": [],
   "source": [
    "def random_discrete(p):\n",
    "    box = []\n",
    "    for i in p:\n",
    "        if i>0:\n",
    "            continue\n",
    "        else:\n",
    "            print('Error: negative value')\n",
    "            return None\n",
    "        \n",
    "    if ((sum(p))-1)>1e-10:\n",
    "        print('Error: not equal to 1')\n",
    "        return None\n",
    "    elif ((sum(p))-1)<(0.1):\n",
    "        print('Error: not equal to 1')\n",
    "        return None\n",
    "    else:\n",
    "        for n in range(len(p)):\n",
    "            for prob in range(int(p[n]*100)):\n",
    "                nv = n\n",
    "                box.append(nv)\n",
    "    ran = box[int(random()*100)]\n",
    "    return ran"
   ]
  },
  {
   "cell_type": "code",
   "execution_count": 3,
   "metadata": {},
   "outputs": [
    {
     "name": "stdout",
     "output_type": "stream",
     "text": [
      "Error: not equal to 1\n",
      "Error: negative value\n",
      "Error: not equal to 1\n",
      "Error: not equal to 1\n",
      "Error: not equal to 1\n",
      "Error: not equal to 1\n",
      "Error: not equal to 1\n",
      "Error: not equal to 1\n",
      "Error: not equal to 1\n",
      "Error: not equal to 1\n",
      "Error: not equal to 1\n",
      "Error: not equal to 1\n",
      "Error: not equal to 1\n",
      "Error: not equal to 1\n",
      "Error: not equal to 1\n",
      "Error: not equal to 1\n",
      "Error: not equal to 1\n",
      "Error: not equal to 1\n",
      "Error: not equal to 1\n",
      "Error: not equal to 1\n",
      "Error: not equal to 1\n",
      "Error: not equal to 1\n",
      "[None, None, None, None, None, None, None, None, None, None, None, None, None, None, None, None, None, None, None, None]\n",
      "Error: not equal to 1\n",
      "Error: not equal to 1\n",
      "Error: not equal to 1\n",
      "Error: not equal to 1\n",
      "Error: not equal to 1\n",
      "Error: not equal to 1\n",
      "Error: not equal to 1\n",
      "Error: not equal to 1\n",
      "Error: not equal to 1\n",
      "Error: not equal to 1\n",
      "Error: not equal to 1\n",
      "Error: not equal to 1\n",
      "Error: not equal to 1\n",
      "Error: not equal to 1\n",
      "Error: not equal to 1\n",
      "Error: not equal to 1\n",
      "Error: not equal to 1\n",
      "Error: not equal to 1\n",
      "Error: not equal to 1\n",
      "Error: not equal to 1\n",
      "[None, None, None, None, None, None, None, None, None, None, None, None, None, None, None, None, None, None, None, None]\n"
     ]
    }
   ],
   "source": [
    "# test function\n",
    "\n",
    "assert random_discrete([.5,.3])==None\n",
    "assert random_discrete([-2,1])==None\n",
    "print([random_discrete([.3,.6,.1]) for i in range(20)])\n",
    "print([random_discrete([.7,.1,.1,.1]) for i in range(20)])\n",
    "\n"
   ]
  },
  {
   "cell_type": "code",
   "execution_count": null,
   "metadata": {},
   "outputs": [],
   "source": []
  }
 ],
 "metadata": {
  "kernelspec": {
   "display_name": "Python 3",
   "language": "python",
   "name": "python3"
  },
  "language_info": {
   "codemirror_mode": {
    "name": "ipython",
    "version": 3
   },
   "file_extension": ".py",
   "mimetype": "text/x-python",
   "name": "python",
   "nbconvert_exporter": "python",
   "pygments_lexer": "ipython3",
   "version": "3.8.5"
  }
 },
 "nbformat": 4,
 "nbformat_minor": 4
}
