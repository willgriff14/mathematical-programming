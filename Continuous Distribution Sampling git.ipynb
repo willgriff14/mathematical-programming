{
 "cells": [
  {
   "cell_type": "markdown",
   "metadata": {},
   "source": [
    "# Continuous Distribution Sampling"
   ]
  },
  {
   "cell_type": "markdown",
   "metadata": {},
   "source": [
    "A distribution that is used in modelling extreme events has cumulative distribution function\n",
    "$$F(t)=\\mathbb{P}(X\\leq t)=\\exp(-t^{-\\alpha}), \\quad t>0,$$\n",
    "where $\\alpha>0$ is a parameter and $X$ is the random variable.\n",
    "\n",
    "This function `random_extreme(alpha)` will return a random variable with this distribution and parameter $\\alpha$ every time it is called (independently every time).  If $\\alpha\\leq 0$ it will print an error message and return `None`."
   ]
  },
  {
   "cell_type": "code",
   "execution_count": 2,
   "metadata": {},
   "outputs": [],
   "source": [
    "from random import random,randrange\n",
    "\n",
    "import matplotlib.pyplot as plt\n",
    "from math import *\n",
    "import numpy as np"
   ]
  },
  {
   "cell_type": "code",
   "execution_count": 3,
   "metadata": {},
   "outputs": [],
   "source": [
    "def random_extreme(alpha):\n",
    "    error_message = 'Error: parameter must be positive'\n",
    "    if alpha <= 0:\n",
    "        print(error_message)\n",
    "        return None\n",
    "    else:\n",
    "        return ((-log(random()))**(-1/alpha))"
   ]
  },
  {
   "cell_type": "code",
   "execution_count": 4,
   "metadata": {},
   "outputs": [
    {
     "name": "stdout",
     "output_type": "stream",
     "text": [
      "Some samples with alpha= 10\n",
      "[1.244907085369269, 0.9310208469530651, 1.106458415554211, 0.9469254861610442, 0.9381940431778758]\n",
      "Should print error:\n",
      "Error: parameter must be positive\n"
     ]
    },
    {
     "data": {
      "image/png": "[encoded data removed]",
      "text/plain": [
       "<Figure size 432x288 with 1 Axes>"
      ]
     },
     "metadata": {
      "needs_background": "light"
     },
     "output_type": "display_data"
    }
   ],
   "source": [
    "# Some sample tests\n",
    "\n",
    "alpha=10\n",
    "\n",
    "print('Some samples with alpha=',alpha)\n",
    "print([random_extreme(alpha) for i in range(5)])\n",
    "\n",
    "print('Should print error:')  \n",
    "assert random_extreme(0)==None \n",
    "\n",
    "# 10000 samples with alpha=10\n",
    "n=10000\n",
    "alpha=10\n",
    "data=[random_extreme(alpha) for i in range(n)]  \n",
    "\n",
    "plt.hist(data,bins=50,density=True)\n",
    "\n",
    "# Plot it on the same axes, and check that the fit looks plausible\n",
    "\n",
    "plt.show()"
   ]
  },
  {
   "cell_type": "markdown",
   "metadata": {},
   "source": [
    "We will now estmiate the mean of the distribution for each of the parameter values $\\alpha=20,10,0.7,0.5$.  Storing answers in variables with names `mean_20,  mean_10,  mean_0_7,  mean_0_5` respectively.  If it is suspected that the mean is infinite, we will store the string `'Infinity'` in the variable."
   ]
  },
  {
   "cell_type": "code",
   "execution_count": 5,
   "metadata": {},
   "outputs": [],
   "source": [
    "n = 1000000\n",
    "data20 = [(random_extreme(20)) for i in range(n)]\n",
    "data10 = [(random_extreme(10)) for i in range(n)]\n",
    "data07 = [(random_extreme(0.7)) for i in range(n)]\n",
    "data05 = [(random_extreme(0.5)) for i in range(n)]\n",
    "mean_20 = (sum(data20)/n)\n",
    "mean_10 = (sum(data10)/n)\n",
    "mean_0_7 = 'Infinity'\n",
    "mean_0_5 = 'Infinity'"
   ]
  },
  {
   "cell_type": "code",
   "execution_count": 6,
   "metadata": {},
   "outputs": [],
   "source": [
    "# initial tests\n",
    "assert abs(mean_20 - 1.03)<0.02  # approximate answer"
   ]
  },
  {
   "cell_type": "code",
   "execution_count": 7,
   "metadata": {},
   "outputs": [],
   "source": [
    "# initial tests\n",
    "assert mean_0_7 == 'Infinity'"
   ]
  },
  {
   "cell_type": "code",
   "execution_count": null,
   "metadata": {},
   "outputs": [],
   "source": []
  }
 ],
 "metadata": {
  "kernelspec": {
   "display_name": "Python 3",
   "language": "python",
   "name": "python3"
  },
  "language_info": {
   "codemirror_mode": {
    "name": "ipython",
    "version": 3
   },
   "file_extension": ".py",
   "mimetype": "text/x-python",
   "name": "python",
   "nbconvert_exporter": "python",
   "pygments_lexer": "ipython3",
   "version": "3.8.5"
  }
 },
 "nbformat": 4,
 "nbformat_minor": 4
}
