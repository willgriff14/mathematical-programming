{
 "cells": [
  {
   "cell_type": "markdown",
   "metadata": {},
   "source": [
    "# Mobius Functions"
   ]
  },
  {
   "cell_type": "markdown",
   "metadata": {},
   "source": [
    "A positive integer is called 'square-free' if is not divisible by $p^2$ for any prime $p$. The Mobius function, $\\mu(n)$ is a arithmetic function defined as follows:\n",
    "- $\\mu(1)=1$;\n",
    "- $\\mu(n) = 0$ if there is a prime $p$ such that $p^2$ divides $n$;\n",
    "- if $n$ is square-free and has an odd number of prime factors, $\\mu(n)=-1$;\n",
    "- if $n$ is square-free and has an even number of prime factors, $\\mu(n)=1$.\n",
    "\n",
    "The Mobius function is multiplicative."
   ]
  },
  {
   "cell_type": "markdown",
   "metadata": {},
   "source": [
    "We will define $\\mu$ on prime powers and use this to define `mobius_pp(p,e)` which returns $\\mu(p^e)$ when $p$ is prime."
   ]
  },
  {
   "cell_type": "code",
   "execution_count": 1,
   "metadata": {},
   "outputs": [],
   "source": [
    "def mobius_pp(p,e):\n",
    "    if e == 0:\n",
    "        return 1\n",
    "    else:\n",
    "        if e%2 == 0:\n",
    "            return 0\n",
    "        else:\n",
    "            return -1"
   ]
  },
  {
   "cell_type": "markdown",
   "metadata": {},
   "source": [
    "`mobius(n)` is a function that calculates $\\mu(n)$."
   ]
  },
  {
   "cell_type": "code",
   "execution_count": 1,
   "metadata": {},
   "outputs": [],
   "source": [
    "def mobius(n):\n",
    "    set = decompose(n)\n",
    "    set1 = list(set.values())\n",
    "    if n == 1:\n",
    "        return 1\n",
    "    else:\n",
    "        for i in range(len(set1)):\n",
    "            if set1[i] > 1:\n",
    "                return 0\n",
    "        else:\n",
    "            if sum(set1)%2 == 0:\n",
    "                return 1\n",
    "            else:\n",
    "                return -1"
   ]
  },
  {
   "cell_type": "code",
   "execution_count": null,
   "metadata": {},
   "outputs": [],
   "source": []
  }
 ],
 "metadata": {
  "kernelspec": {
   "display_name": "Python 3",
   "language": "python",
   "name": "python3"
  },
  "language_info": {
   "codemirror_mode": {
    "name": "ipython",
    "version": 3
   },
   "file_extension": ".py",
   "mimetype": "text/x-python",
   "name": "python",
   "nbconvert_exporter": "python",
   "pygments_lexer": "ipython3",
   "version": "3.8.5"
  }
 },
 "nbformat": 4,
 "nbformat_minor": 4
}
