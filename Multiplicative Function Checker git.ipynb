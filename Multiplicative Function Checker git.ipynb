{
 "cells": [
  {
   "cell_type": "markdown",
   "metadata": {},
   "source": [
    "# Multiplicative Function Checker"
   ]
  },
  {
   "cell_type": "markdown",
   "metadata": {},
   "source": [
    "We will write a piece of code that checks if a given function is (or could be) a multiplicative function. A selection of the values of an arithmetic function can be presented as a dictionary with entries of the form `{ x:f(x) }`."
   ]
  },
  {
   "cell_type": "code",
   "execution_count": 1,
   "metadata": {},
   "outputs": [],
   "source": [
    "\n",
    "def isprime_basic(n,verbose=False): \n",
    "    '''\n",
    "    Checks whether the argument n is a prime number using a brute force \n",
    "    search for factors between 1 and n. We made it verbose here for \n",
    "    illustration. (I.e. it prints out its results.)\n",
    "    '''\n",
    "    # First, 1 is not prime.\n",
    "    if n == 1:\n",
    "        return False\n",
    "    # If n is even then it is only prime if it is 2\n",
    "    if n % 2 == 0: \n",
    "        if n == 2: \n",
    "            return True\n",
    "        else:\n",
    "            if verbose:\n",
    "                print(\"{} is not prime: {} is a factor. \".format(n,2))\n",
    "            return False\n",
    "    # So now we can consider odd numbers only. \n",
    "    j = 3\n",
    "    rootN = n**0.5\n",
    "    # Now check all numbers 3,5,... up to sqrt(n)\n",
    "    while j <= rootN: \n",
    "        if n % j == 0:\n",
    "            if verbose:\n",
    "                print(\"{} is not prime: {} is a factor.\".format(n,j))\n",
    "            return False\n",
    "        j = j + 2\n",
    "    if verbose:\n",
    "        print(\"{} is prime.\".format(n))\n",
    "    return True \n",
    "\n",
    "\n",
    "def gcd(a,b):\n",
    "    \"\"\"Returns the greatest common divisor of integers a and b using Euclid's algorithm.\n",
    "    The order of a and b does not matter and nor do the signs.\"\"\"\n",
    "    if not(a%1 ==0 and b%1==0):\n",
    "        print( \"Need to use integers for gcd.\")\n",
    "        return None\n",
    "    if b==0:\n",
    "        return abs(a)                           #Use abs to ensure this is positive\n",
    "    else:\n",
    "        return gcd(b,a%b)\n",
    "    \n",
    "    \n",
    "    \n",
    "def gcd_ext(a,b):\n",
    "    \"\"\"Outputs (gcd,x,y) such that gcd=ax+by.\"\"\"\n",
    "    if not(a%1 ==0 and b%1==0):                         #Reject if trying to use for non-integers\n",
    "        print( \"Need to use integers for gcd.\")\n",
    "        return None\n",
    "    if a == 0:                                          #Base case is when a=0.\n",
    "        return (abs(b), 0, abs(b)//b)                   #Then gcd =|b| and is 0*a+1*b or 0*a-1*b. Use abs(b)//b\n",
    "    else:\n",
    "        quot=b//a                                       #The rule is that g=gcd(a,b)=gcd(b%a,a).\n",
    "                                                        #Let b=qa+r where r=b%a\n",
    "        g, x, y = gcd_ext(b%a, a)                       #And if  g=x1*r + y1*a then since r=b-qa\n",
    "        return (g, y - quot * x, x)                     #We get g = a*(y1-q*x1)+x1*b.\n",
    "                                                        #So x=y1-q*x1 and y=x1.\n",
    "\n",
    "\n",
    "def smallest_factor(n):\n",
    "    \"\"\"Returns the smallest factor of a positive integer n.\"\"\"\n",
    "    sqrt=n**0.5\n",
    "    i=2\n",
    "    while i<=sqrt:\n",
    "        if n%i==0:\n",
    "            return i                            #If we get here, return i as the value.\n",
    "        i+=1\n",
    "    return n                                    #If we get through the whole while loop, return n.\n",
    "\n",
    "\n",
    "def recompose(factor_dict):\n",
    "    \"\"\"Recomposes an integer from the factor dictionary.\"\"\"\n",
    "    result=1                                                #start with 1 and multiply\n",
    "    for p in factor_dict.keys():\n",
    "        result = result*(p**factor_dict[p])\n",
    "    return result                                           #Stop once we've run through the whole dict\n",
    "\n",
    "\n",
    "def decompose(n):\n",
    "    \"\"\"Generates a dictionary representing the prime decomposition.\"\"\"\n",
    "    factors={}\n",
    "    current_number=n                            #divide current_number by the factor found found until it reaches 1\n",
    "    while current_number > 1:\n",
    "        p=smallest_factor(current_number)\n",
    "        if p in factors.keys():                 #if p is not a new factor, increase the power\n",
    "            factors[p]+=1\n",
    "        else:\n",
    "            factors[p]=1                        #if p is a new factor, create a new entry\n",
    "        current_number = current_number//p\n",
    "    return factors\n",
    "\n",
    "\n",
    "def make_mult_func(fun_pp):\n",
    "    \"\"\"Takes a function fun_pp that is only defined on prime power and returns the associated\n",
    "    multiplicative function defined on all positive integers.\"\"\"\n",
    "    def mult_version(n):                        #The output should be another function -- this one\n",
    "        n=decompose(n)\n",
    "        result=1\n",
    "        for p in n.keys():\n",
    "            result*=fun_pp(p,n[p])              #Uses the value at a prime power.\n",
    "        return result\n",
    "    return mult_version                         #Return the function made."
   ]
  },
  {
   "cell_type": "markdown",
   "metadata": {},
   "source": [
    "An example is given below, for the function $f:\\mathbb{N} \\to\\mathbb{N}$ with $f(n)=n^2$."
   ]
  },
  {
   "cell_type": "code",
   "execution_count": 2,
   "metadata": {},
   "outputs": [],
   "source": [
    "sample_of_f={1:1,3:9,5:25,2:4,6:36}"
   ]
  },
  {
   "cell_type": "markdown",
   "metadata": {},
   "source": [
    "This dictionary will contain some but not all of the entries of the function. This means it may be possible to detect that the function is not multiplicative but we cannot definitely say a function is multiplicative. (For example if the sample contains $f(2)$ and $f(3)$ but not $f(6)$.)\n",
    "\n",
    "The function `maybe_multiplicative(sample_dict)` will return the Boolean `False` if the values given in the dictionary cannot come from a multiplicative function and return `True` if it is possible that the function is multiplicative."
   ]
  },
  {
   "cell_type": "code",
   "execution_count": 3,
   "metadata": {},
   "outputs": [],
   "source": [
    "def maybe_multiplicative(sample_dict):\n",
    "    Boolean = False\n",
    "    if sample_dict[1] == 1:\n",
    "        for i in sample_dict.keys():\n",
    "            for j in sample_dict.keys():\n",
    "                if sample_dict[i]*sample_dict[j] != sample_dict[i*j]:\n",
    "                    return Boolean\n",
    "                else:\n",
    "                    return True\n",
    "    else:\n",
    "        return Boolean"
   ]
  },
  {
   "cell_type": "code",
   "execution_count": 4,
   "metadata": {},
   "outputs": [],
   "source": [
    "sample_of_gcd_with_120={}\n",
    "for i in [1,2,3,4,12,11,6,8,9,13,14,7,65,60,20,33,11,99]:\n",
    "    sample_of_gcd_with_120[i]=gcd(120,i)\n",
    "    ##Note f(n)=gcd(120,n) is a multiplicative function.\n",
    "    \n",
    "assert maybe_multiplicative(sample_of_gcd_with_120)==True\n",
    "\n",
    "##(This is the sum of proper divisors.)\n",
    "assert maybe_multiplicative({1:0,2:1,3:1,4:3,5:1,6:6,7:1,8:6,9:4})==False"
   ]
  },
  {
   "cell_type": "code",
   "execution_count": null,
   "metadata": {},
   "outputs": [],
   "source": []
  }
 ],
 "metadata": {
  "kernelspec": {
   "display_name": "Python 3",
   "language": "python",
   "name": "python3"
  },
  "language_info": {
   "codemirror_mode": {
    "name": "ipython",
    "version": 3
   },
   "file_extension": ".py",
   "mimetype": "text/x-python",
   "name": "python",
   "nbconvert_exporter": "python",
   "pygments_lexer": "ipython3",
   "version": "3.8.5"
  }
 },
 "nbformat": 4,
 "nbformat_minor": 4
}
