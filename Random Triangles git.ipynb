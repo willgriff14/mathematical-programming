{
 "cells": [
  {
   "cell_type": "markdown",
   "metadata": {},
   "source": [
    "# Random Triangles"
   ]
  },
  {
   "cell_type": "markdown",
   "metadata": {},
   "source": [
    "We will estimate, by repeated sampling, the probability that three independent uniformly random points in the unit square $[0,1]^2$ form an acute triangle, i.e. one in which all angles are less than $\\pi/2$. We will use enough samples to ensure that the standard deviation of your estimate of the probability is no more than 0.001.\n",
    "\n",
    "Next, we will repeat for three independent uniformly random points in the unit disc $\\{(x,y): x^2+y^2<1\\}$.\n",
    "\n",
    "Then we will repeat for three independent uniformly random points on the unit circle $\\{(x,y): x^2+y^2=1\\}$.\n",
    "\n",
    "We will store the results in three variables named `prob_square`, `prob_disc`, `prob_circle` "
   ]
  },
  {
   "cell_type": "code",
   "execution_count": 7,
   "metadata": {},
   "outputs": [],
   "source": [
    "from random import random,randrange\n",
    "\n",
    "import matplotlib.pyplot as plt\n",
    "from math import *\n",
    "import numpy as np\n",
    "\n",
    "from sys import modules\n",
    "try:\n",
    "    del modules['random'].shuffle\n",
    "except:\n",
    "    pass\n",
    "try:\n",
    "    del modules['random'].choices\n",
    "except:\n",
    "    pass\n",
    "try:\n",
    "    del modules['numpy'].random\n",
    "except:\n",
    "    pass"
   ]
  },
  {
   "cell_type": "code",
   "execution_count": 8,
   "metadata": {},
   "outputs": [],
   "source": [
    "def random_extreme(alpha):\n",
    "    error_message = 'Error: parameter must be positive'\n",
    "    if alpha <= 0:\n",
    "        print(error_message)\n",
    "        return None\n",
    "    else:\n",
    "        return ((-log(random()))**(-1/alpha))"
   ]
  },
  {
   "cell_type": "code",
   "execution_count": 9,
   "metadata": {},
   "outputs": [
    {
     "name": "stdout",
     "output_type": "stream",
     "text": [
      "Some samples with alpha= 10\n",
      "[0.9638138894251865, 1.0603672974101153, 1.0347530122912876, 1.0904211528059262, 0.9533447740982037]\n",
      "Should print error:\n",
      "Error: parameter must be positive\n"
     ]
    },
    {
     "data": {
      "image/png": "[encoded data removed]",
      "text/plain": [
       "<Figure size 432x288 with 1 Axes>"
      ]
     },
     "metadata": {
      "needs_background": "light"
     },
     "output_type": "display_data"
    }
   ],
   "source": [
    "\n",
    "alpha=10\n",
    "\n",
    "print('Some samples with alpha=',alpha)\n",
    "print([random_extreme(alpha) for i in range(5)])\n",
    "\n",
    "print('Should print error:')  \n",
    "assert random_extreme(0)==None \n",
    "\n",
    "# 10000 samples with alpha=10\n",
    "n=10000\n",
    "alpha=10\n",
    "data=[random_extreme(alpha) for i in range(n)]  \n",
    "\n",
    "plt.hist(data,bins=50,density=True)\n",
    "\n",
    "# Differentiate F by hand to find the probability density function f.\n",
    "# Plot it on the same axes, and check that the fit looks plausible\n",
    "\n",
    "plt.show()"
   ]
  },
  {
   "cell_type": "code",
   "execution_count": 10,
   "metadata": {},
   "outputs": [],
   "source": [
    "n = 1000000\n",
    "data20 = [(random_extreme(20)) for i in range(n)]\n",
    "data10 = [(random_extreme(10)) for i in range(n)]\n",
    "data07 = [(random_extreme(0.7)) for i in range(n)]\n",
    "data05 = [(random_extreme(0.5)) for i in range(n)]\n",
    "mean_20 = (sum(data20)/n)\n",
    "mean_10 = (sum(data10)/n)\n",
    "mean_0_7 = 'Infinity'\n",
    "mean_0_5 = 'Infinity'"
   ]
  },
  {
   "cell_type": "code",
   "execution_count": 11,
   "metadata": {},
   "outputs": [],
   "source": [
    "import random\n",
    "def random_shuffle(x):\n",
    "    for i in range(len(x)):\n",
    "        ri = random.randint(i, len(x)-1)\n",
    "        ello = x[ri]\n",
    "        x[ri] = x[i]\n",
    "        x[i] = ello\n",
    "    return x"
   ]
  },
  {
   "cell_type": "code",
   "execution_count": 12,
   "metadata": {},
   "outputs": [
    {
     "name": "stdout",
     "output_type": "stream",
     "text": [
      "[4, 3, 5]\n",
      "[4, 3, 5]\n",
      "[3, 5, 4]\n",
      "[5, 3, 4]\n",
      "[3, 4, 5]\n",
      "[44, 37, 33, 5, 19, 26, 18, 29, 8, 49, 39, 41, 20, 36, 30, 31, 13, 28, 47, 35, 23, 1, 2, 42, 12, 38, 3, 7, 48, 16, 40, 27, 4, 45, 0, 14, 9, 24, 11, 34, 21, 22, 32, 6, 25, 15, 17, 43, 46, 10]\n"
     ]
    }
   ],
   "source": [
    "# simple tests\n",
    "for i in range(5):\n",
    "    print(random_shuffle([3,4,5]))\n",
    "\n",
    "# trivial cases\n",
    "assert random_shuffle([99])==[99]\n",
    "assert random_shuffle([])==[]\n",
    "\n",
    "# long lists should work too\n",
    "print(random_shuffle(list(range(50))))"
   ]
  },
  {
   "cell_type": "code",
   "execution_count": 13,
   "metadata": {},
   "outputs": [
    {
     "name": "stdout",
     "output_type": "stream",
     "text": [
      "(5, 3, 4) appeared with frequency 1\n"
     ]
    }
   ],
   "source": [
    "# Partial example code - using a dictionary to record frequencies\n",
    "# to be incorporated into your own testing code\n",
    "\n",
    "freq=dict()    # an empty dictionary\n",
    "\n",
    "# Example - increase the frequency count associated to a permutation y:\n",
    "y=[5,3,4]\n",
    "\n",
    "ty=tuple(y)               # convert to a tuple\n",
    "if ty not in freq:        \n",
    "    freq[ty]=1            # if we have not seen it before, count 1\n",
    "else:\n",
    "    freq[ty]=freq[ty]+1   # else increase the count by 1\n",
    "    \n",
    "# output the results\n",
    "for k in freq:\n",
    "    print(k,'appeared with frequency',freq[k])"
   ]
  },
  {
   "cell_type": "code",
   "execution_count": 14,
   "metadata": {},
   "outputs": [],
   "source": [
    "def random_discrete(p):\n",
    "    box = []\n",
    "    for i in p:\n",
    "        if i>0:\n",
    "            continue\n",
    "        else:\n",
    "            print('Error: negative value')\n",
    "            return None\n",
    "        \n",
    "    if ((sum(p))-1)>1e-10:\n",
    "        print('Error: not equal to 1')\n",
    "        return None\n",
    "    elif ((sum(p))-1)<(0.1):\n",
    "        print('Error: not equal to 1')\n",
    "        return None\n",
    "    else:\n",
    "        for n in range(len(p)):\n",
    "            for prob in range(int(p[n]*100)):\n",
    "                nv = n\n",
    "                box.append(nv)\n",
    "    ran = box[int(random()*100)]\n",
    "    return ran"
   ]
  },
  {
   "cell_type": "code",
   "execution_count": 15,
   "metadata": {},
   "outputs": [
    {
     "name": "stdout",
     "output_type": "stream",
     "text": [
      "Error: not equal to 1\n",
      "Error: negative value\n",
      "Error: not equal to 1\n",
      "Error: not equal to 1\n",
      "Error: not equal to 1\n",
      "Error: not equal to 1\n",
      "Error: not equal to 1\n",
      "Error: not equal to 1\n",
      "Error: not equal to 1\n",
      "Error: not equal to 1\n",
      "Error: not equal to 1\n",
      "Error: not equal to 1\n",
      "Error: not equal to 1\n",
      "Error: not equal to 1\n",
      "Error: not equal to 1\n",
      "Error: not equal to 1\n",
      "Error: not equal to 1\n",
      "Error: not equal to 1\n",
      "Error: not equal to 1\n",
      "Error: not equal to 1\n",
      "Error: not equal to 1\n",
      "Error: not equal to 1\n",
      "[None, None, None, None, None, None, None, None, None, None, None, None, None, None, None, None, None, None, None, None]\n",
      "Error: not equal to 1\n",
      "Error: not equal to 1\n",
      "Error: not equal to 1\n",
      "Error: not equal to 1\n",
      "Error: not equal to 1\n",
      "Error: not equal to 1\n",
      "Error: not equal to 1\n",
      "Error: not equal to 1\n",
      "Error: not equal to 1\n",
      "Error: not equal to 1\n",
      "Error: not equal to 1\n",
      "Error: not equal to 1\n",
      "Error: not equal to 1\n",
      "Error: not equal to 1\n",
      "Error: not equal to 1\n",
      "Error: not equal to 1\n",
      "Error: not equal to 1\n",
      "Error: not equal to 1\n",
      "Error: not equal to 1\n",
      "Error: not equal to 1\n",
      "[None, None, None, None, None, None, None, None, None, None, None, None, None, None, None, None, None, None, None, None]\n"
     ]
    }
   ],
   "source": [
    "# test your function\n",
    "\n",
    "assert random_discrete([.5,.3])==None\n",
    "assert random_discrete([-2,1])==None\n",
    "print([random_discrete([.3,.6,.1]) for i in range(20)])\n",
    "print([random_discrete([.7,.1,.1,.1]) for i in range(20)])"
   ]
  },
  {
   "cell_type": "code",
   "execution_count": null,
   "metadata": {},
   "outputs": [],
   "source": []
  },
  {
   "cell_type": "code",
   "execution_count": 16,
   "metadata": {},
   "outputs": [
    {
     "name": "stdout",
     "output_type": "stream",
     "text": [
      "0.27452571428571426\n",
      "0.2802414285714286\n",
      "0.24981142857142857\n"
     ]
    }
   ],
   "source": [
    "prob = []\n",
    "def sideLength(a,b,a2,b2):\n",
    "    hi = (abs(a2-a))**2+(abs(b2-b))**2\n",
    "    return hi**0.5\n",
    "def acute(x1, y1, x2, y2, x3, y3):\n",
    "    sideAB = sideLength(x1, y1, x2, y2)\n",
    "    sideBC = sideLength(x2, y2, x3, y3)\n",
    "    sideAC = sideLength(x3, y3, x1, y1)\n",
    "    largest = max(sideAB, sideBC, sideAC)\n",
    "    var1 = min(sideAB, sideBC, sideAC)\n",
    "    if sideAB != largest and sideAB != var1:\n",
    "        var2 = sideAB\n",
    "    elif sideBC != largest and sideBC != var1:\n",
    "        var2 = sideBC\n",
    "    else:\n",
    "        var2 = sideAC\n",
    "    if (largest) ** 2 < ((var1) ** 2 + (var2) ** 2):\n",
    "        return True\n",
    "    else:\n",
    "        return False\n",
    "for i in range(700000):\n",
    "    ptz = [[random.random(), random.random()] for i in range(3)]\n",
    "    x = [p[0] for p in ptz]\n",
    "    y = [p[1] for p in ptz]\n",
    "    x1z = ptz[0][0]\n",
    "    y1z = ptz[0][1]\n",
    "    x2z = ptz[1][0]\n",
    "    y2z = ptz[1][1]\n",
    "    x3z = ptz[2][0]\n",
    "    y3z = ptz[2][1]\n",
    "    if acute(x1z,y1z,x2z,y2z,x3z,y3z) == True:\n",
    "        prob.append(1)\n",
    "    else:\n",
    "        prob.append(0)\n",
    "prob_square = np.mean(prob)\n",
    "print(prob_square)\n",
    "prob2 = []\n",
    "for i in range(700000):\n",
    "    def randdisc():\n",
    "        while True:\n",
    "            [x,y]=[random.random()*2-1,random.random()*2-1]\n",
    "            if x**2+y**2<1:\n",
    "                return (x,y)\n",
    "    pts=[randdisc() for i in range(3)]\n",
    "    x1 = pts[0][0]\n",
    "    y1 = pts[0][1]\n",
    "    x2 = pts[1][0]\n",
    "    y2 = pts[1][1]\n",
    "    x3 = pts[2][0]\n",
    "    y3 = pts[2][1]\n",
    "    if acute(x1,y1,x2,y2,x3,y3) == True:\n",
    "        prob2.append(1)\n",
    "    else:\n",
    "        prob2.append(0)\n",
    "prob_disc = np.mean(prob2)\n",
    "print(prob_disc)\n",
    "prob3 = []\n",
    "for i in range(700000):\n",
    "    ran = []\n",
    "    for i in range(3):\n",
    "        ran.append(2*np.pi*random.random())\n",
    "    x1r = np.cos(ran[0])\n",
    "    y1r = np.sin(ran[0])\n",
    "    x2r = np.cos(ran[1])\n",
    "    y2r = np.sin(ran[1])\n",
    "    x3r = np.cos(ran[2])\n",
    "    y3r = np.sin(ran[2])\n",
    "    if acute(x1r,y1r,x2r,y2r,x3r,y3r) == True:\n",
    "        prob3.append(1)\n",
    "    else:\n",
    "        prob3.append(0)\n",
    "prob_circle = np.mean(prob3)\n",
    "print(prob_circle)"
   ]
  },
  {
   "cell_type": "code",
   "execution_count": 17,
   "metadata": {},
   "outputs": [],
   "source": [
    "# approximate test\n",
    "assert abs(prob_square-0.27)<0.05"
   ]
  },
  {
   "cell_type": "code",
   "execution_count": 18,
   "metadata": {},
   "outputs": [],
   "source": [
    "# approximate test\n",
    "assert abs(prob_disc-0.28)<0.05"
   ]
  },
  {
   "cell_type": "code",
   "execution_count": 19,
   "metadata": {},
   "outputs": [],
   "source": [
    "# approximate test\n",
    "assert abs(prob_circle-0.25)<0.05"
   ]
  },
  {
   "cell_type": "code",
   "execution_count": null,
   "metadata": {},
   "outputs": [],
   "source": []
  }
 ],
 "metadata": {
  "kernelspec": {
   "display_name": "Python 3",
   "language": "python",
   "name": "python3"
  },
  "language_info": {
   "codemirror_mode": {
    "name": "ipython",
    "version": 3
   },
   "file_extension": ".py",
   "mimetype": "text/x-python",
   "name": "python",
   "nbconvert_exporter": "python",
   "pygments_lexer": "ipython3",
   "version": "3.8.5"
  }
 },
 "nbformat": 4,
 "nbformat_minor": 4
}
