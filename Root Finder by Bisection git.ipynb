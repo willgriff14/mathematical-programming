{
 "cells": [
  {
   "cell_type": "markdown",
   "metadata": {},
   "source": [
    "# Root Finder by Bisection"
   ]
  },
  {
   "cell_type": "markdown",
   "metadata": {},
   "source": [
    "We would like to solve the polynomial equation\n",
    "\\begin{equation} x^4 -2 x^2 + \\frac{1}{2}x + \\frac{1}{4} = 0. \\end{equation}\n",
    "\n",
    "Use the bisection algorithm to find all the roots of this equation."
   ]
  },
  {
   "cell_type": "code",
   "execution_count": 7,
   "metadata": {},
   "outputs": [
    {
     "data": {
      "text/plain": [
       "(-1.5, 2.0)"
      ]
     },
     "execution_count": 7,
     "metadata": {},
     "output_type": "execute_result"
    },
    {
     "data": {
      "image/png": "[encoded data removed]",
      "text/plain": [
       "<Figure size 432x288 with 1 Axes>"
      ]
     },
     "metadata": {
      "needs_background": "light"
     },
     "output_type": "display_data"
    }
   ],
   "source": [
    "def polyfunc(x):\n",
    "    return x**4 - 2*x**2 + 0.5*x +0.25\n",
    "\n",
    "# We will begin using numpy and matplotlib next week, this is just for you to see the function\n",
    "import numpy as np\n",
    "import matplotlib.pyplot as plt\n",
    "\n",
    "xval = np.linspace(-2,2,300)\n",
    "yval = polyfunc(xval)\n",
    "plt.figure()\n",
    "plt.plot(xval,yval)\n",
    "plt.plot(xval,0*xval,'r')\n",
    "plt.ylim(-1.5,2)"
   ]
  },
  {
   "cell_type": "markdown",
   "metadata": {},
   "source": [
    "The function will take as arguments a bracket for the root, and a tolerance for the solution. The function will produce as result the value of the root if there is one, or the string `no root` if there is not one. The bisection algorthim will be run to the highest possible precision."
   ]
  },
  {
   "cell_type": "code",
   "execution_count": 8,
   "metadata": {},
   "outputs": [],
   "source": [
    "def bisect_polynomial(a,b,tolerance):\n",
    "    signdiff = polyfunc(a)*polyfunc(b)\n",
    "    # when a < b:\n",
    "    if signdiff > 0:\n",
    "        return 'no root'\n",
    "    delta = b - a\n",
    "    while delta > tolerance:\n",
    "        midpoint = a + delta/2\n",
    "        \n",
    "        if polyfunc(a)*polyfunc(midpoint) < 0:\n",
    "            b = midpoint\n",
    "        else:\n",
    "            a = midpoint\n",
    "        delta = b - a\n",
    "    return midpoint\n",
    "\n"
   ]
  },
  {
   "cell_type": "code",
   "execution_count": 9,
   "metadata": {},
   "outputs": [],
   "source": [
    "# First check if your function works, part of the test is hidden\n",
    "assert bisect_polynomial(-2,-1.5,1e-10) == 'no root'\n",
    "assert abs(bisect_polynomial(-2,-1,1e-4) + 1.49)<1e-2"
   ]
  },
  {
   "cell_type": "markdown",
   "metadata": {},
   "source": [
    "The roots will be labelled from smallest to largest as `root1`,`root2`, etc for the checks below to work correctly. Working to the best precision (smallest tolerance) that the code is able to."
   ]
  },
  {
   "cell_type": "code",
   "execution_count": 10,
   "metadata": {},
   "outputs": [],
   "source": [
    "root1 = bisect_polynomial(-2,-1,1e-15)\n",
    "root2 = bisect_polynomial(-1,0,1e-15)\n",
    "root3 = bisect_polynomial(0,1,1e-15)\n",
    "root4 = bisect_polynomial(1,1.5,1e-15)"
   ]
  },
  {
   "cell_type": "code",
   "execution_count": 11,
   "metadata": {},
   "outputs": [],
   "source": [
    "assert abs(root1 + 1.49)<1e-2\n",
    "assert abs(root2 + 0.25)<1e-2"
   ]
  },
  {
   "cell_type": "code",
   "execution_count": null,
   "metadata": {},
   "outputs": [],
   "source": []
  }
 ],
 "metadata": {
  "kernelspec": {
   "display_name": "Python 3",
   "language": "python",
   "name": "python3"
  },
  "language_info": {
   "codemirror_mode": {
    "name": "ipython",
    "version": 3
   },
   "file_extension": ".py",
   "mimetype": "text/x-python",
   "name": "python",
   "nbconvert_exporter": "python",
   "pygments_lexer": "ipython3",
   "version": "3.8.5"
  }
 },
 "nbformat": 4,
 "nbformat_minor": 4
}
