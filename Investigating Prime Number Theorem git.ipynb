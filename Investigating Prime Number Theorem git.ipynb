{
 "cells": [
  {
   "cell_type": "markdown",
   "metadata": {},
   "source": [
    "# Investigating the Prime Number Theorem"
   ]
  },
  {
   "cell_type": "markdown",
   "metadata": {},
   "source": [
    "In number theory, the prime number theorem gives an approximation of the number of primes up to a given integer. Let $n$ be a natural number and define $\\Pi: \\mathbb{N}\\to\\mathbb{N}$ so $\\Pi(n)$ is the number of positive prime numbers which are less than or equal to $n$. Thus $\\Pi(2)=1$, $\\Pi(7)=4$ etc.\n",
    "\n",
    "The prime number theorem states that for large enough $n$, $\\Pi(n)$ is well-approximated by the following two functions:\n",
    "$$f(n) = \\frac{n}{\\log n} \\text{ and } Li(n) = \\int_2^n{\\frac{1}{\\log t} \\,dt}.$$\n",
    "\n",
    "Formally, the prime number theorem states that $$\\lim_{n\\to\\infty}\\frac{\\Pi(n)}{f(n)}=1$$\n",
    "and $$\\lim_{n\\to\\infty}\\frac{\\Pi(n)}{Li(n)}=1.$$\n",
    "\n",
    "We will graph these functions in the range where $n<3,000$ to numerically check the prime number theorem and compare the two approximations."
   ]
  },
  {
   "cell_type": "code",
   "execution_count": 1,
   "metadata": {},
   "outputs": [],
   "source": [
    "import matplotlib.pyplot as plt\n",
    "import numpy as np"
   ]
  },
  {
   "cell_type": "code",
   "execution_count": 3,
   "metadata": {},
   "outputs": [],
   "source": [
    "def convert_to_text(number): \n",
    "    \"\"\" \n",
    "    Returns a string that is the decoding of the input integer number.\n",
    "    This is done by converting number to a binary string, removing the \n",
    "    leading character '1', slicing out each 8 bit substring consecutively,\n",
    "    converting each such string to the character it encodes and concatenating\n",
    "    these characters to obtain the decoded string.    \n",
    "    \"\"\"\n",
    "    # Remove '0b1' from the string\n",
    "    bin_string = bin(number)[3:]    \n",
    "    text = ''                           \n",
    "    length = len(bin_string)\n",
    "    for i in range(0,length,8):  \n",
    "        # Pick out binary strings, 8 bits at a time\n",
    "        byte_string = bin_string[i:i+8]   \n",
    "        # Convert byte_string to a character before \n",
    "        # appending it to text \n",
    "        text = text + chr(int(byte_string,2))  \n",
    "    return text"
   ]
  },
  {
   "cell_type": "code",
   "execution_count": 4,
   "metadata": {},
   "outputs": [],
   "source": [
    "def modular_inverse(a,b): \n",
    "    '''\n",
    "    Given input (a,b) with a and b integers returns \n",
    "    the multiplicative inverse of a modulo b provided \n",
    "    gcd(a,b) = 1. Otherwise returns an error message.\n",
    "    '''\n",
    "    ic_message = 'The numbers are not comprime'\n",
    "    (g,x,y) = gcd_ext(a,b)\n",
    "    if not g == 1: \n",
    "        print(ic_message)\n",
    "        return None\n",
    "    x = x % b \n",
    "    return x \n",
    "\n"
   ]
  },
  {
   "cell_type": "code",
   "execution_count": 7,
   "metadata": {},
   "outputs": [],
   "source": [
    "def is_prime(n,verbose=False): \n",
    "    '''\n",
    "    Checks whether the argument n is a prime number using a brute force \n",
    "    search for factors between 1 and n. We made it verbose here for \n",
    "    illustration. (I.e. it prints out its results.)\n",
    "    '''\n",
    "    # First, 1 is not prime.\n",
    "    if n == 1:\n",
    "        return False\n",
    "    # If n is even then it is only prime if it is 2\n",
    "    if n % 2 == 0: \n",
    "        if n == 2: \n",
    "            return True\n",
    "        else:\n",
    "            if verbose:\n",
    "                print(\"{} is not prime: {} is a factor. \".format(n,2))\n",
    "            return False\n",
    "    # So now we can consider odd numbers only. \n",
    "    j = 3\n",
    "    rootN = n**0.5\n",
    "    # Now check all numbers 3,5,... up to sqrt(n)\n",
    "    while j <= rootN: \n",
    "        if n % j == 0:\n",
    "            if verbose:\n",
    "                print(\"{} is not prime: {} is a factor.\".format(n,j))\n",
    "            return False\n",
    "        j = j + 2\n",
    "    if verbose:\n",
    "        print(\"{} is prime.\".format(n))\n",
    "    return True \n"
   ]
  },
  {
   "cell_type": "code",
   "execution_count": 8,
   "metadata": {},
   "outputs": [
    {
     "name": "stdout",
     "output_type": "stream",
     "text": [
      "[2, 3, 5, 7, 11, 13, 17, 19, 23, 29, 31, 37, 41, 43, 47, 53, 59, 61, 67, 71, 73, 79, 83, 89, 97]\n"
     ]
    }
   ],
   "source": [
    "print([p for p in range(100) if is_prime(p)])"
   ]
  },
  {
   "cell_type": "code",
   "execution_count": 9,
   "metadata": {},
   "outputs": [
    {
     "data": {
      "image/png": "[encoded data removed]",
      "text/plain": [
       "<Figure size 432x288 with 1 Axes>"
      ]
     },
     "metadata": {
      "needs_background": "light"
     },
     "output_type": "display_data"
    }
   ],
   "source": [
    "##Here is a graph of 1/log t.\n",
    "x=np.linspace(2,300,1000)\n",
    "y=1/np.log(x)\n",
    "plt.plot(x,y)\n",
    "plt.title('Graph of y=1/log(x) between x=2 and x=300')\n",
    "plt.show()"
   ]
  },
  {
   "cell_type": "markdown",
   "metadata": {},
   "source": [
    "The function $Li$ above is called the logarithmic integral. The integrand $\\frac{1}{\\log t}$ does not have an elementary anti-derivative but can be integrated numerically.\n",
    "\n",
    "We will decide on a reasonable scheme to numerically integrate to calculate $Li$ and define a function `Li(n)` which  approximates the logarithmic integral. In choosing this method we will consider the following factors:\n",
    "- The function has to be a \"close enough\" approximation to allow you to compare $Li(n)$ to $\\Pi(n)$.\n",
    "- The function should not take too long to calculate. We will need to evaluate $Li(n)$ many times to draw a graph.\n",
    "- It may be useful to know whether our estimate is either an overestimate or an underestimate of the true value."
   ]
  },
  {
   "cell_type": "markdown",
   "metadata": {},
   "source": [
    "We will use trapezoidal rule to calculate the integral analytically. We will programme it using $2$ as a lower bound and $n$ as the variable upper bound. Then inserting $\\frac{1}{\\log t}$  into this and taking $n$ as the sole input into the overall function will yield the result required. $x$ denotes the number of steps taken for the calculation. $1000$ steps provides a high degree of accuracy with a reasonably fast execution time."
   ]
  },
  {
   "cell_type": "code",
   "execution_count": 20,
   "metadata": {},
   "outputs": [],
   "source": [
    "def Li(n):\n",
    "    # Using trapezoidal rule to calculate integral analyltically\n",
    "    def trapezium(f,n,x):\n",
    "    # x is number of steps\n",
    "    # f is the function we want to integrate\n",
    "    # we will start from 2 and integrate to n\n",
    "        h = (n-2)/x\n",
    "        s= 0.0\n",
    "        s += f(2)/2\n",
    "        for i in range(1,x):\n",
    "            s+= f(2 +i*h)\n",
    "        s += f(n)/2\n",
    "        return s * h\n",
    "    # Now we can insert target function to integrate with desired accuracy\n",
    "    return trapezium(lambda x:1/np.log(x),n,1000)"
   ]
  },
  {
   "cell_type": "code",
   "execution_count": 21,
   "metadata": {},
   "outputs": [],
   "source": [
    "assert Li(3000) > 441 and Li(3000) < 443"
   ]
  },
  {
   "cell_type": "code",
   "execution_count": 22,
   "metadata": {},
   "outputs": [
    {
     "name": "stdout",
     "output_type": "stream",
     "text": [
      "3.14 s ± 20.2 ms per loop (mean ± std. dev. of 7 runs, 1 loop each)\n"
     ]
    }
   ],
   "source": [
    "# speed test\n",
    "def test_Li():\n",
    "    for i in range(2,3000):\n",
    "        Li(i)\n",
    "        \n",
    "%timeit test_Li()"
   ]
  },
  {
   "cell_type": "markdown",
   "metadata": {},
   "source": [
    "Next we will need a way to find $\\Pi(n)$. We will create a list (or a numpy array) called `primes` which contains all primes between $1$ and $3000$ in numerical order. (Using the `is_prime` function above)"
   ]
  },
  {
   "cell_type": "code",
   "execution_count": 23,
   "metadata": {},
   "outputs": [],
   "source": [
    "primes=[]\n",
    "# Check whether the numbers between 1 and 3000 are prime\n",
    "for i in range(3001):\n",
    "    if is_prime(i) == True:\n",
    "# if a number is prime, then append to the primes list\n",
    "        primes.append(i)"
   ]
  },
  {
   "cell_type": "code",
   "execution_count": 24,
   "metadata": {},
   "outputs": [],
   "source": [
    "assert primes[0]==2\n",
    "assert primes[3]==7\n",
    "assert len(primes)==430"
   ]
  },
  {
   "cell_type": "markdown",
   "metadata": {},
   "source": [
    "Now we will draw a graph of $n$ against\n",
    " - $\\Pi(n)$, the prime counting function;\n",
    " - $f(n)=\\frac{n}{\\log n}$, the asymptote;\n",
    " - $Li(n)$, the logarithmic integral.\n",
    " \n",
    "The graph will go up to $n=3,000$."
   ]
  },
  {
   "cell_type": "code",
   "execution_count": 25,
   "metadata": {},
   "outputs": [
    {
     "data": {
      "text/plain": [
       "430"
      ]
     },
     "execution_count": 25,
     "metadata": {},
     "output_type": "execute_result"
    },
    {
     "data": {
      "image/png": "[encoded data removed]",
      "text/plain": [
       "<Figure size 432x288 with 1 Axes>"
      ]
     },
     "metadata": {
      "needs_background": "light"
     },
     "output_type": "display_data"
    }
   ],
   "source": [
    "def f(n):\n",
    "    return n/np.log(n)\n",
    "# define functino pi(n) to graph\n",
    "def pi(n):\n",
    "    return sum(i<n for i in primes)\n",
    "# n = 1 causes division by 0 so start from 2\n",
    "# plot n from 2 to 3000 for the required functions\n",
    "n = np.linspace(2,3001)\n",
    "x = Li(n)\n",
    "y = f(n)\n",
    "z = pi(n)\n",
    "plots = plt.plot(n,x,n,y,n,z)\n",
    "plt.xlabel('n')\n",
    "plt.ylabel('Functions of n')\n",
    "plt.title('Prime Number Theorem')\n",
    "plt.grid(True)\n",
    "plt.legend(plots[:3], ['Li(n)', 'f(n)', 'pi(n)'])\n",
    "plt.show\n",
    "\n",
    "len(primes)"
   ]
  },
  {
   "cell_type": "markdown",
   "metadata": {},
   "source": [
    "A graph of $n$ against\n",
    " - $\\frac{\\Pi(n)}{Li(n)}$;\n",
    " - $\\frac{\\Pi(n)\\log n}{n}$;\n",
    " - a constant function with value $1$.\n",
    " \n",
    "The graph will go up to $n=3,000$."
   ]
  },
  {
   "cell_type": "code",
   "execution_count": 27,
   "metadata": {},
   "outputs": [
    {
     "name": "stderr",
     "output_type": "stream",
     "text": [
      "<ipython-input-27-f90ae091298c>:4: RuntimeWarning: invalid value encountered in true_divide\n",
      "  plots = plt.plot(n,z/x,n,z*(1/y),[0,3000],[1,1])\n"
     ]
    },
    {
     "data": {
      "text/plain": [
       "<function matplotlib.pyplot.show(close=None, block=None)>"
      ]
     },
     "execution_count": 27,
     "metadata": {},
     "output_type": "execute_result"
    },
    {
     "data": {
      "image/png": "[encoded data removed]",
      "text/plain": [
       "<Figure size 432x288 with 1 Axes>"
      ]
     },
     "metadata": {
      "needs_background": "light"
     },
     "output_type": "display_data"
    }
   ],
   "source": [
    "# When n = 2, Li(n) = 0 which causes division by zero\n",
    "# therefore, plot from 3 to 3000\n",
    "n = np.linspace(3,3001)\n",
    "plots = plt.plot(n,z/x,n,z*(1/y),[0,3000],[1,1])\n",
    "plt.xlabel('n')\n",
    "plt.ylabel('Functions of n')\n",
    "plt.title('Prime Number Theorem')\n",
    "plt.grid(True)\n",
    "plt.legend(plots[:3], ['pi(n)/Li(n)', '(pi(n)log(n))/n', 'y = 1'])\n",
    "plt.show"
   ]
  },
  {
   "cell_type": "markdown",
   "metadata": {},
   "source": [
    "The graph shows that $pi(n)/li(n)$ converges faster to $1$ and also provides a more accurate estimate for the number of primes up $n$ than $(pi(n)log(n))/n$."
   ]
  },
  {
   "cell_type": "code",
   "execution_count": null,
   "metadata": {},
   "outputs": [],
   "source": []
  }
 ],
 "metadata": {
  "kernelspec": {
   "display_name": "Python 3",
   "language": "python",
   "name": "python3"
  },
  "language_info": {
   "codemirror_mode": {
    "name": "ipython",
    "version": 3
   },
   "file_extension": ".py",
   "mimetype": "text/x-python",
   "name": "python",
   "nbconvert_exporter": "python",
   "pygments_lexer": "ipython3",
   "version": "3.8.5"
  }
 },
 "nbformat": 4,
 "nbformat_minor": 4
}
