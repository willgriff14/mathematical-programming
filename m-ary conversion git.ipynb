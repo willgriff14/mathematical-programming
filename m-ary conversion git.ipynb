{
 "cells": [
  {
   "cell_type": "markdown",
   "metadata": {},
   "source": [
    "# $m$-ary Conversion"
   ]
  },
  {
   "cell_type": "markdown",
   "metadata": {},
   "source": [
    "This function `convert` will, given a pair of integers `(number,base)` as input, with `number` being a non-negative integer and `base` being a member of the set $\\{2,\\dots,32\\}$, returns a string representing `number` in `base`-ary notation. \n",
    "Note that 2-ary is just binary and that, for example, the 5-ary string representation of `43` is `'133'` since $43 = 1 \\cdot 5^2 + 3 \\cdot 5^1 + 3 \\cdot 5^0$. \n",
    " To represent the numbers $10,11,\\dots,31$ in the string representation we will use the characters `'a','b',...,'u','v'`. (So, for example, `convert(59,12)` will return `'4b'`.) "
   ]
  },
  {
   "cell_type": "code",
   "execution_count": 1,
   "metadata": {},
   "outputs": [
    {
     "name": "stdout",
     "output_type": "stream",
     "text": [
      "13 in binary is 1101\n",
      "43 in 5-ary is 133\n",
      "The last digit of 43 in 5-ary is given by 43 % 5 = 3\n",
      "Also 43 // 5 =  8\n",
      "But 8 is 13 in 5-ary! \n"
     ]
    }
   ],
   "source": [
    "# Use a string of digits for number digits\n",
    "base_digits = '01234'\n",
    "b_string = base_digits[1] + base_digits[1] + base_digits[0] + base_digits[1]\n",
    "f_string = base_digits[1] + base_digits[3] + base_digits[3]\n",
    "print(\"13 in binary is \" + b_string)\n",
    "print(\"43 in 5-ary is \" + f_string)\n",
    "# Hint on how to process the first input of your function\n",
    "print(\"The last digit of 43 in 5-ary is given by 43 % 5 =\", 43 % 5)\n",
    "print(\"Also 43 // 5 = \", 43 // 5)\n",
    "print(\"But 8 is 13 in 5-ary! \")"
   ]
  },
  {
   "cell_type": "code",
   "execution_count": 2,
   "metadata": {},
   "outputs": [],
   "source": [
    "def convert(number,base):\n",
    "    if number == 0:\n",
    "        return '0'\n",
    "    elif number > 0:\n",
    "        x = number\n",
    "        y = base\n",
    "        maxp = 0\n",
    "        while x//y**maxp > 0:\n",
    "            maxp += 1\n",
    "        zlist = [0]*maxp\n",
    "        xlist = [0]*maxp\n",
    "        maxp = maxp-1\n",
    "        xlist[0] = x//y**maxp\n",
    "        xlist[maxp] = x%y\n",
    "        zlist[0] = x\n",
    "        mod = []\n",
    "        for i in range(1,maxp):\n",
    "            mod.append(y**i)\n",
    "        mod.reverse()\n",
    "        for k in range(1,maxp):\n",
    "            zlist[k] = zlist[k-1]-xlist[k-1]*y**(maxp+1-k)\n",
    "            xlist[k] = zlist[k]//mod[k-1]\n",
    "        for n in range(len(xlist)):\n",
    "            if xlist[n] > 9:\n",
    "                xlist[n] = chr(xlist[n]+55).lower()\n",
    "        ans = ''.join([str(j) for j in xlist])\n",
    "        return ans"
   ]
  },
  {
   "cell_type": "code",
   "execution_count": 3,
   "metadata": {},
   "outputs": [
    {
     "name": "stdout",
     "output_type": "stream",
     "text": [
      "Input  Base  Converted\n",
      "=====  ====  =========\n",
      "65918  9     110372     \n",
      "31364  9     47018      \n",
      "7561   9     11331      \n",
      "96242  9     156015     \n",
      "69210  9     114840     \n",
      "16694  9     24808      \n",
      "8931   9     13223      \n",
      "10523  9     15382      \n",
      "80773  9     132717     \n",
      "25259  9     37575      \n"
     ]
    }
   ],
   "source": [
    "# Casual testing area. You can run this cell multiple times.\n",
    "# This cell is NOT graded. \n",
    "from random import randint\n",
    "max_num = 100000\n",
    "base = randint(2,32)\n",
    "print(\"Input  Base  Converted\")\n",
    "print(\"=====  ====  =========\")\n",
    "for i in range(10): \n",
    "    n = randint(0,max_num)      # Define max in the previous cell \n",
    "    d = convert(n,base)     # Define base in the previous cell \n",
    "    print(\"{:<7}{:<6}{:<11}\".format(n,base,d))"
   ]
  },
  {
   "cell_type": "code",
   "execution_count": 4,
   "metadata": {},
   "outputs": [],
   "source": [
    "# In each of the tests (including the hidden tests) convert(number,base) is such that \n",
    "# number is a non-negative integer and base is an integer in the interval [2,32]\n",
    "assert convert(0,7) == '0'\n",
    "assert convert(17,8) == '21'\n",
    "assert convert(854,2) == '1101010110'\n",
    "assert convert(183,5) == '1213'\n",
    "assert convert(388,11) == '323'\n",
    "assert convert(3496,32) == '3d8'\n",
    "assert convert(5961,28) == '7gp'\n",
    "assert convert(78932148,25) == '821gan'"
   ]
  },
  {
   "cell_type": "markdown",
   "metadata": {},
   "source": [
    "This function `revert` will, given pair `(num_string,base)` as input, where `base` is a number in the set  $\\{2,\\dots,32\\}$  and `num_string` is  a string of digits in `base`-ary notation,  will return the integer (in decimal) of which `num_string` is the `base`-ary representation. (So, for example, `revert('4b',12)` should return `59`.)\n",
    "\n",
    "We will assume that `base` is a number in the set $\\{2,\\dots,32\\}$ and that `num_string` is the string representation of a `base`-ary number."
   ]
  },
  {
   "cell_type": "code",
   "execution_count": 5,
   "metadata": {},
   "outputs": [],
   "source": [
    "def revert(num_string,base):\n",
    "    boxy = []\n",
    "    for x in num_string:\n",
    "        letters = x.isalpha()\n",
    "        if letters is True:\n",
    "            boxy.append((ord(x)-87))\n",
    "        else:\n",
    "            boxy.append(int(x))   \n",
    "    slist = []\n",
    "    for j in range(0, len(boxy)):\n",
    "        slist.append((boxy[j])*base**(len(boxy)-j-1))\n",
    "    anz = sum(slist)\n",
    "    return anz"
   ]
  },
  {
   "cell_type": "code",
   "execution_count": 6,
   "metadata": {},
   "outputs": [
    {
     "name": "stdout",
     "output_type": "stream",
     "text": [
      "Input  Base  Converted  Reverted\n",
      "=====  ====  =========  ========\n",
      "1397   5     21042      1397    \n",
      "815    5     11230      815     \n",
      "201    5     1301       201     \n",
      "208    5     1313       208     \n",
      "3194   5     100234     3194    \n",
      "68     5     233        68      \n",
      "646    5     10041      646     \n",
      "1368   5     20433      1368    \n",
      "1041   5     13131      1041    \n",
      "2676   5     41201      2676    \n"
     ]
    }
   ],
   "source": [
    "# Casual testing area. You can run this cell multiple times.\n",
    "# This cell is NOT graded. \n",
    "from random import randint\n",
    "base = randint(2,32)\n",
    "max_num = 5000\n",
    "print(\"Input  Base  Converted  Reverted\")\n",
    "print(\"=====  ====  =========  ========\")\n",
    "for i in range(10): \n",
    "    n = randint(0,max_num)\n",
    "    d = convert(n,base)     # Define base in the previous cell\n",
    "    k = revert(d,base)\n",
    "    print(\"{:<7}{:<6}{:<11}{:<8}\".format(n,base,d,k))"
   ]
  },
  {
   "cell_type": "code",
   "execution_count": 7,
   "metadata": {},
   "outputs": [],
   "source": [
    "# In each of the tests (including the hidden tests) revert(num_string,base) is such that \n",
    "# num_string is a valid base-ary string representation. Also base is an integer in [2,32].\n",
    "assert revert('0',5) == 0\n",
    "assert revert('1101010110',2) == 854\n",
    "assert revert('1213',5) == 183\n",
    "assert revert('323',11) == 388\n",
    "assert revert('3d8',32) == 3496\n",
    "assert revert('7gp',28) == 5961\n",
    "assert revert('e2d89c5',17) == 341893567"
   ]
  },
  {
   "cell_type": "code",
   "execution_count": null,
   "metadata": {},
   "outputs": [],
   "source": []
  }
 ],
 "metadata": {
  "kernelspec": {
   "display_name": "Python 3",
   "language": "python",
   "name": "python3"
  },
  "language_info": {
   "codemirror_mode": {
    "name": "ipython",
    "version": 3
   },
   "file_extension": ".py",
   "mimetype": "text/x-python",
   "name": "python",
   "nbconvert_exporter": "python",
   "pygments_lexer": "ipython3",
   "version": "3.8.5"
  }
 },
 "nbformat": 4,
 "nbformat_minor": 4
}
