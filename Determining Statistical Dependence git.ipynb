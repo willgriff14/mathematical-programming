{
 "cells": [
  {
   "cell_type": "markdown",
   "metadata": {},
   "source": [
    "# Determining Statistical Dependence"
   ]
  },
  {
   "cell_type": "markdown",
   "metadata": {},
   "source": [
    "We are given a __contingency table__, containing the counts of individuals categorized according to two factors.  For example, the following table gives numbers of patients in a New York hospital categorized by blood type (A, AB, B or O) and COVID-19 test result.\n",
    "\n",
    "|   |  positive test | negative test  |\n",
    "|:---:|:---:|:---:|\n",
    "| A  | 231  | 245  |\n",
    "| AB  | 21  | 47  |\n",
    "| B  | 116  |  136 |\n",
    "| O  |  312 | 449  |\n",
    "\n",
    "We want to determine whether there is evidence of statistical dependence between the two factors, in this case blood type and test result.  The null hypothesis is that the two factors are independent; the alternative hypothesis is that they are not. \n",
    "\n",
    "For each cell of the table, we compute its __expected count__ under the null hypothesis, which is given by:\n",
    "$$\\mbox{expected count}=\\frac{\\mbox{row total}\\times\\mbox{column total}}{\\mbox{grand total}}.$$\n",
    "Here \"row total\" is the sum of all the counts in the row containing the cell, and similarly for the column, and \"grand total\" is the total of all counts in the table.  We then compute the test statistic:\n",
    "$$s^2=\\sum_{\\mbox{cell}} \\frac{(\\mbox{observed} - \\mbox{expected})^2}{\\mbox{expected}}.$$\n",
    "Here the sum is over all cells in the table, \"observed\" is the count in the cell in the original table, and \"expected\" is the expected count computed above. \n",
    "\n",
    "Under the null hypothesis, $s^2$ has approximately a chi-squared distribution with $(\\mbox{rows}-1)(\\mbox{columns}-1)$ degrees of freedom (where \"rows\" and \"columns\" are the numbers of rows and columns in the table, e.g. $4$ and $2$ in the example above).  The distribution is `chi2` (note: _not_ `chisquare`!) in the `scipy` `stats` package.  The p-value is the probability that a random variable with this distribution is greater than or equal to the computed statistic $s^2$.  We reject the null hypothesis if the p-value is less than or equal to the required significance level $\\alpha.$\n",
    "\n",
    "The test involves an approximation.  It is not considered appropriate if any expected cell count is less than $5$.  (In that case there are other \"exact\" tests that can be used.)  "
   ]
  },
  {
   "cell_type": "markdown",
   "metadata": {},
   "source": [
    "We will write a function `expected(table)` that takes a two-dimensional contingency table of counts (with any numbers of rows and columns), in the form of a numpy array, and returns a numpy array of the same shape countaining the expected counts under the null hypothesis."
   ]
  },
  {
   "cell_type": "code",
   "execution_count": 1,
   "metadata": {},
   "outputs": [],
   "source": [
    "import numpy as np\n",
    "import matplotlib.pyplot as plt\n",
    "from scipy import stats"
   ]
  },
  {
   "cell_type": "code",
   "execution_count": 2,
   "metadata": {},
   "outputs": [],
   "source": [
    "def expected(table):\n",
    "    columns = np.shape(table)[0]\n",
    "    rows = np.shape(table)[1]\n",
    "    \n",
    "    row_totals = []\n",
    "    for i in range(rows):\n",
    "        row_totals.append(table[0,i]+table[1,i])\n",
    "        \n",
    "    column_totals = []\n",
    "    for i in range(columns):\n",
    "        column_totals.append(sum(table[i,:]))\n",
    "        \n",
    "    grand_total = sum(column_totals)\n",
    "    \n",
    "    expected_count_col_1 = []\n",
    "    for i in range(rows):\n",
    "        expected_count_col_1.append((row_totals[i]*column_totals[0])/grand_total)\n",
    "    \n",
    "    expected_count_col_2 = []\n",
    "    for i in range(rows):\n",
    "        expected_count_col_2.append((row_totals[i]*column_totals[1])/grand_total)\n",
    "    \n",
    "    x = np.row_stack((expected_count_col_1, expected_count_col_2))\n",
    "    \n",
    "    return x"
   ]
  },
  {
   "cell_type": "code",
   "execution_count": 3,
   "metadata": {},
   "outputs": [
    {
     "name": "stdout",
     "output_type": "stream",
     "text": [
      "[[4 2 2]\n",
      " [7 3 2]]\n",
      "[[4.4 2.  1.6]\n",
      " [6.6 3.  2.4]]\n",
      "[[4.4 2.  1.6]\n",
      " [6.6 3.  2.4]]\n"
     ]
    }
   ],
   "source": [
    "t=np.array([[4,2,2],[7,3,2]])\n",
    "print(t)\n",
    "print(expected(t))\n",
    "print(expected(expected(t)))  # applying the function twice should give same as once\n",
    "assert np.allclose(expected(t),[[4.4,2,1.6],[6.6,3,2.4]])\n",
    "assert np.allclose(expected(t),expected(expected(t)))"
   ]
  },
  {
   "cell_type": "markdown",
   "metadata": {},
   "source": [
    "Next, we will write a function `statistic(table)` that computes the test statistic $s^2$."
   ]
  },
  {
   "cell_type": "code",
   "execution_count": 4,
   "metadata": {},
   "outputs": [],
   "source": [
    "def statistic(table):\n",
    "    \n",
    "    def expected(table):\n",
    "        columns = np.shape(table)[0]\n",
    "        rows = np.shape(table)[1]\n",
    "        row_totals = []\n",
    "        for i in range(rows):\n",
    "            row_totals.append(table[0,i]+table[1,i])\n",
    "        column_totals = []\n",
    "        for i in range(columns):\n",
    "            column_totals.append(sum(table[i,:]))\n",
    "        grand_total = sum(column_totals)\n",
    "        expected_count_col_1 = []\n",
    "        for i in range(rows):\n",
    "            expected_count_col_1.append((row_totals[i]*column_totals[0])/grand_total)\n",
    "        expected_count_col_2 = []\n",
    "        for i in range(rows):\n",
    "            expected_count_col_2.append((row_totals[i]*column_totals[1])/grand_total)\n",
    "        x = np.row_stack((expected_count_col_1, expected_count_col_2))\n",
    "        return x\n",
    "    \n",
    "    expected = expected(table)\n",
    "    observed = table\n",
    "    s_squared = []\n",
    "    for i in range(len(expected[0])):\n",
    "        s_squared.append(((observed[0,i]-expected[0,i])**2)/expected[0,i])\n",
    "        s_squared.append(((observed[1,i]-expected[1,i])**2)/expected[1,i])\n",
    "    s_squared = sum(s_squared)\n",
    "    \n",
    "    return s_squared"
   ]
  },
  {
   "cell_type": "code",
   "execution_count": 5,
   "metadata": {},
   "outputs": [
    {
     "name": "stdout",
     "output_type": "stream",
     "text": [
      "0.0\n",
      "1.8463863006799308\n"
     ]
    }
   ],
   "source": [
    "# Informal testing\n",
    "print(statistic(np.array([[12,8],[9,6]])))\n",
    "print(statistic(np.array([[6,10,4],[3,9,7]])))"
   ]
  },
  {
   "cell_type": "markdown",
   "metadata": {},
   "source": [
    "We will now write a function `p_value(table)` that computes the p-value.  If any expected cell count is less than $5$ it will instead print an error message and return `None`."
   ]
  },
  {
   "cell_type": "code",
   "execution_count": 6,
   "metadata": {},
   "outputs": [],
   "source": [
    "def p_value(table):\n",
    "    ex = expected(table)\n",
    "    if np.any(ex<5)==True:\n",
    "        print('Error')\n",
    "        return None\n",
    "    rows,cols=np.shape(table)\n",
    "    df=(rows-1)*(cols-1)\n",
    "    chi = stats.chi2(df)\n",
    "    F=chi.cdf\n",
    "    pvalue=1-F(statistic(table))\n",
    "    return pvalue"
   ]
  },
  {
   "cell_type": "markdown",
   "metadata": {},
   "source": [
    "We will determine whether or not we can reject the null hypothesis (and thence conclude that there is evidence of dependence between blood type and test result) in the above example, at significance level $0.05$, and also significance levels $0.01$ and $0.001$.  We will store the answers in three boolean variables (which will be `True` if and only if we can reject the null hypothesis) named `reject_5`, `reject_1` and `reject_01` respectively. "
   ]
  },
  {
   "cell_type": "code",
   "execution_count": 7,
   "metadata": {},
   "outputs": [
    {
     "name": "stdout",
     "output_type": "stream",
     "text": [
      "[[231 245]\n",
      " [ 21  47]\n",
      " [116 136]\n",
      " [312 449]]\n",
      "[[77.04046243 89.26910726]\n",
      " [11.00578035 12.75272961]]\n",
      "680.3968467636215\n",
      "0.0\n"
     ]
    }
   ],
   "source": [
    "tests = np.array([[231,245],[21,47],[116,136],[312,449]])\n",
    "\n",
    "print(tests)\n",
    "print(expected(tests))\n",
    "print(statistic(tests))\n",
    "print(p_value(tests))\n",
    "\n",
    "reject_5 = True\n",
    "reject_1 = True\n",
    "reject_01 = False"
   ]
  },
  {
   "cell_type": "code",
   "execution_count": 8,
   "metadata": {},
   "outputs": [],
   "source": [
    "assert (reject_5==True or reject_5==False)"
   ]
  },
  {
   "cell_type": "code",
   "execution_count": null,
   "metadata": {},
   "outputs": [],
   "source": []
  }
 ],
 "metadata": {
  "kernelspec": {
   "display_name": "Python 3",
   "language": "python",
   "name": "python3"
  },
  "language_info": {
   "codemirror_mode": {
    "name": "ipython",
    "version": 3
   },
   "file_extension": ".py",
   "mimetype": "text/x-python",
   "name": "python",
   "nbconvert_exporter": "python",
   "pygments_lexer": "ipython3",
   "version": "3.8.5"
  }
 },
 "nbformat": 4,
 "nbformat_minor": 4
}
