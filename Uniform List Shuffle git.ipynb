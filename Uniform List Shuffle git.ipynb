{
 "cells": [
  {
   "cell_type": "markdown",
   "metadata": {},
   "source": [
    "# Uniform List Shuffle"
   ]
  },
  {
   "cell_type": "markdown",
   "metadata": {},
   "source": [
    "This function `random_shuffle(x)` will shuffle a list uniformly, i.e. reorder it by a uniformly random permutation.  E.g. `random_shuffle([3,4,5])` should return one of the $3!=6$ possible lists `[3,4,5],[3,5,4],[4,3,5],[4,5,3],[5,3,4],[5,4,3]` each time it is called, with each possibility appearing with probability $1/3!=1/6$.  There are library functions that do this, but here we want to do it from first principles, using only `random()` and/or `randrange()`. The function will work even for a list of length 0 or 1."
   ]
  },
  {
   "cell_type": "markdown",
   "metadata": {},
   "source": [
    "### Pseudocode\n",
    "\n",
    "One way  would be to list all $n!$ permutations and then pick one, but that is impractical for large $n$.  Instead we will use the following method, known as Knuth's shuffle:\n",
    "\n",
    "To shuffle a list of $n$ elements:\n",
    "\n",
    "for each $i$ in $n-1,\\ldots,2,1$ (in this order):  \n",
    "swap the element in position $i$ with the element at a position chosen uniformly at random from positions $0,1,\\ldots,i$ (such a swap should do nothing if the chosen position is itself $i$).  "
   ]
  },
  {
   "cell_type": "code",
   "execution_count": 1,
   "metadata": {},
   "outputs": [],
   "source": [
    "import random\n",
    "def random_shuffle(x):\n",
    "    for i in range(len(x)):\n",
    "        ri = random.randint(i, len(x)-1)\n",
    "        ello = x[ri]\n",
    "        x[ri] = x[i]\n",
    "        x[i] = ello\n",
    "    return x"
   ]
  },
  {
   "cell_type": "code",
   "execution_count": 2,
   "metadata": {},
   "outputs": [
    {
     "name": "stdout",
     "output_type": "stream",
     "text": [
      "[5, 4, 3]\n",
      "[5, 3, 4]\n",
      "[3, 5, 4]\n",
      "[3, 5, 4]\n",
      "[3, 4, 5]\n",
      "[37, 28, 10, 45, 31, 2, 9, 8, 14, 46, 12, 19, 27, 29, 25, 20, 30, 7, 13, 36, 21, 26, 15, 41, 16, 4, 44, 47, 33, 6, 34, 5, 3, 40, 35, 48, 42, 23, 38, 0, 11, 17, 49, 39, 24, 18, 22, 1, 32, 43]\n"
     ]
    }
   ],
   "source": [
    "# simple tests\n",
    "for i in range(5):\n",
    "    print(random_shuffle([3,4,5]))\n",
    "\n",
    "# trivial cases\n",
    "assert random_shuffle([99])==[99]\n",
    "assert random_shuffle([])==[]\n",
    "\n",
    "# long lists should work too\n",
    "print(random_shuffle(list(range(50))))"
   ]
  },
  {
   "cell_type": "markdown",
   "metadata": {},
   "source": [
    "To test this code more thoroughly, we will run it a large number of times and count the frequencies of the 6 possible permutations of a list of length 3, and compare them with their means under the required uniform distrubtion.\n",
    "\n",
    "A sophisticated method is to use a dictionary to record the frequencies, in which case the shuffled list will need to be converted to a tuple in order to be used as a dictionary key, something like the following.  \n",
    "\n",
    "A simpler alternative is to hard-code the 6 possible permutations and test for them individually using `if` ... `elif`."
   ]
  },
  {
   "cell_type": "code",
   "execution_count": 3,
   "metadata": {},
   "outputs": [
    {
     "name": "stdout",
     "output_type": "stream",
     "text": [
      "(5, 3, 4) appeared with frequency 1\n"
     ]
    }
   ],
   "source": [
    "# Partial example code - using a dictionary to record frequencies\n",
    "# to be incorporated into your own testing code\n",
    "\n",
    "freq=dict()    # an empty dictionary\n",
    "\n",
    "# Example - increase the frequency count associated to a permutation y:\n",
    "y=[5,3,4]\n",
    "\n",
    "ty=tuple(y)               # convert to a tuple\n",
    "if ty not in freq:        \n",
    "    freq[ty]=1            # if we have not seen it before, count 1\n",
    "else:\n",
    "    freq[ty]=freq[ty]+1   # else increase the count by 1\n",
    "    \n",
    "# output the results\n",
    "for k in freq:\n",
    "    print(k,'appeared with frequency',freq[k])"
   ]
  },
  {
   "cell_type": "code",
   "execution_count": null,
   "metadata": {},
   "outputs": [],
   "source": []
  }
 ],
 "metadata": {
  "kernelspec": {
   "display_name": "Python 3",
   "language": "python",
   "name": "python3"
  },
  "language_info": {
   "codemirror_mode": {
    "name": "ipython",
    "version": 3
   },
   "file_extension": ".py",
   "mimetype": "text/x-python",
   "name": "python",
   "nbconvert_exporter": "python",
   "pygments_lexer": "ipython3",
   "version": "3.8.5"
  }
 },
 "nbformat": 4,
 "nbformat_minor": 4
}
