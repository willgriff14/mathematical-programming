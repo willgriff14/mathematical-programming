{
 "cells": [
  {
   "cell_type": "markdown",
   "metadata": {},
   "source": [
    "# Powers of Matrices"
   ]
  },
  {
   "cell_type": "markdown",
   "metadata": {},
   "source": [
    "The `numpy.linalg` library contains function `matrix_power` that on input `(M,k)` such that `M` is a square matrix and `k` is an integer computes `M` raised to the power `k`, i.e$.$ `M` multiplied with itself `k` times. We will develop in two ways our own version of the `matrix_power` function for the case when `k` is a non-negative integer. Firstly we will develop a simple brute force function in which you carry out matrix multiplication `k` times. Secondly we will develop a clever function that computes `M` raised to the power `k` very efficiently (at least for large `k`) provided that `M` is diagonalisable."
   ]
  },
  {
   "cell_type": "markdown",
   "metadata": {},
   "source": [
    "**-** Given $n \\times n$ matrix $M$, $M^0 = I$ where $I$ is the $n \\times n$ identity matrix. Also of course $M^1 = M$. <br />\n",
    "\n",
    "**-** Matrix $M$ is diagonalisable if the set of eigenvectors $\\{\\mathbf{v}_1,\\dots,\\mathbf{v}_n\\}$ of $M$ is linearly independent. <br />\n",
    "\n",
    "**-** An integer $k$ is *non-negative* if $k \\ge 0$."
   ]
  },
  {
   "cell_type": "markdown",
   "metadata": {},
   "source": [
    "This function `brute_matrix_power` will take as inputs a square `numpy` matrix `M` and a non-negative integer `k` and computes and returns `M` raised to the power `k`.  This function will deal with the case  `k` = `0` appropriately. For matrix multiplication we will use the `dot` function from the `numpy` library. We are further assuming that input `M` is a square matrix and input `k` is a non-negative integer. I.e. no need to deal with exceptions. "
   ]
  },
  {
   "cell_type": "code",
   "execution_count": 2,
   "metadata": {},
   "outputs": [],
   "source": [
    "import numpy as np\n",
    "import numpy.linalg as lag"
   ]
  },
  {
   "cell_type": "code",
   "execution_count": 3,
   "metadata": {},
   "outputs": [],
   "source": [
    "def brute_matrix_power(M,k):\n",
    "        shape = np.shape(M)\n",
    "        d = shape[0]\n",
    "        if k == 0:\n",
    "            m = [[0 for x in range(d)] for y in range(d)]\n",
    "            for i in range(0,d):\n",
    "                m[i][i] = 1\n",
    "            m = np.array(m)\n",
    "            return m \n",
    "        elif k == 1:\n",
    "            return M\n",
    "        else:\n",
    "            mat = M\n",
    "            for z in range(k-1):\n",
    "                l = []\n",
    "                for j in range(d):\n",
    "                    col = []\n",
    "                    for k in range(d):\n",
    "                        e = []\n",
    "                        for i in range(d):\n",
    "                            e.append(mat[i,k]*M[j,i])\n",
    "                        f = sum(e)\n",
    "                        col.append(f)\n",
    "                    l.append(col)\n",
    "                mat = np.array(l)\n",
    "            return mat"
   ]
  },
  {
   "cell_type": "code",
   "execution_count": 4,
   "metadata": {},
   "outputs": [],
   "source": [
    "# inital tests\n",
    "M1 = np.array([[1.0,2.0],[3.0,4.0]])\n",
    "M1_exp = brute_matrix_power(M1,7)\n",
    "M2 = np.array([[0.92740639, 0.25351063, 0.24551659],\n",
    "               [0.98468568, 0.17874981, 0.95155668],\n",
    "               [0.17727058, 0.79925759, 0.90888965]])\n",
    "M2_exp = brute_matrix_power(M2,19)\n",
    "assert np.allclose(M1_exp, lag.matrix_power(M1,7))\n",
    "assert np.allclose(M2_exp, lag.matrix_power(M2,19))"
   ]
  },
  {
   "cell_type": "markdown",
   "metadata": {},
   "source": [
    "A matrix $D = (d_{ij})$ is *diagonal* if it is of the form\n",
    "\n",
    " $$                                                                                                               \n",
    "    \\begin{pmatrix}                                                                           \n",
    "      d_{11} & 0 & \\cdots  & 0 \\\\                                                             \n",
    "      0  & d_{22} & \\cdots & 0  \\\\                                                             \n",
    "      \\vdots & \\vdots & \\ddots  & \\vdots \\\\                                                   \n",
    "      0 & 0 & \\cdots  & d_{nn}                                                                 \n",
    "    \\end{pmatrix} \\,,                                                                                              \n",
    "    $$    \n",
    "i.e. if the only non-zero components of $D$ lie on the diagonal. Now, it is  is easy to see that, for any non-negative integer $k$, \n",
    "\n",
    " $$\n",
    " D^k \\;=\\;\n",
    "    \\begin{pmatrix}                                                                           \n",
    "      d_{11}^k & 0 & \\cdots  & 0 \\\\                                                                 0  & d_{22}^k & \\cdots & 0  \\\\                                                           \n",
    "      \\vdots & \\vdots & \\ddots  & \\vdots \\\\                                                   \n",
    "      0 & 0 & \\cdots  & d_{nn}^k                                                               \n",
    "    \\end{pmatrix} \\, ,                                                                                             \n",
    "$$\n",
    "\n",
    "i.e. that $D^k$ is the diagonal matrix whose diagonal components correspond to the diagonal components of $D$ raised to the power $k$. We will use this idea to write a function `diag_exp` that takes as inputs a diagonal `numpy` matrix `D` and a non-negative integer `k` and computes and returns the matrix `D` raised to the power `k`. This function `diag_exp` will not carry out any matrix multiplication. It will also not carry out any matrix exponentiation.\n",
    "\n",
    "We will assume that input `D` is a diagonal matrix and input `k` is a non-negative integer. "
   ]
  },
  {
   "cell_type": "code",
   "execution_count": 5,
   "metadata": {},
   "outputs": [],
   "source": [
    "def diag_exp(D,k):\n",
    "    takeout = []\n",
    "    shape = np.shape(D)\n",
    "    d = shape[0]\n",
    "    for i in range(d):\n",
    "        takeout.append(D[i,i])\n",
    "    for j in range(d):\n",
    "        takeout[j] = takeout[j]**k\n",
    "    m = [[0 for x in range(d)] for y in range(d)]\n",
    "    for i in range(0,d):\n",
    "        m[i][i] = takeout[i]\n",
    "    m = np.array(m)\n",
    "    return m"
   ]
  },
  {
   "cell_type": "code",
   "execution_count": 6,
   "metadata": {},
   "outputs": [],
   "source": [
    "# tests:\n",
    "D1 = np.diag([1.0,2.0,3.0])\n",
    "D1_zero = diag_exp(D1,0)\n",
    "D1_exp = diag_exp(D1,12)\n",
    "D2 = np.diag([4.08801819, 7.62779907, 7.43214746, 3.62364886])\n",
    "D2_exp = diag_exp(D2,6)\n",
    "assert np.allclose(D1_zero,np.eye(3)) \n",
    "assert np.allclose(D1_exp,lag.matrix_power(D1,12))\n",
    "assert np.allclose(D2_exp,lag.matrix_power(D2,6))"
   ]
  },
  {
   "cell_type": "markdown",
   "metadata": {},
   "source": [
    "Suppose that $M$ is an  $n \\times n $ matrix which  is diagonalisable with eigenvalues $\\lambda_1,\\dots,\\lambda_n$ and eigenvectors $\\mathbf{v}_1,\\dots,\\mathbf{v}_n$ such that $M \\mathbf{v}_j = \\lambda_j \\mathbf{v}_j$ for $j = 1,\\dots,n$. \n",
    "Then we know that $M = NDN^{-1}$ where $D = (d_{ij})$ is the diagonal matrix whose diagonal components are the eigenvalues of $M$  and $N$ is a  $n \\times n$  matrix whose columns are the eigenvectors of $M$. Accordingly for each $j = 1,\\dots, n$, we have that $d_{jj} = \\lambda_j$  and the  $j$th column of $N$ is the eigenvector  $\\mathbf{v}_j$ associated with eigenvalue $\\lambda_j$. Notice also that \n",
    "\n",
    "$$\n",
    "M^2 = NDN^{-1}NDN^{-1} = ND^2N^{-1}\n",
    "$$ \n",
    "\n",
    "so that we can easily see by induction that $M^k = ND^kN^{-1}$ for *any* integer $k \\ge 0$. With this in mind we will write a function `d_matrix_exp` that takes as input a diagonalisable `numpy` matrix `M` and a non-negative integer `k` and  computes and returns `M` to the power `k`.\n",
    "\n",
    "1. The function `d_matrix_exp` will carry out only two matrix multiplication operations. \n",
    "2. In the definition of the function we will use the function `diag_exp` defined above.  "
   ]
  },
  {
   "cell_type": "code",
   "execution_count": 7,
   "metadata": {},
   "outputs": [],
   "source": [
    "def d_matrix_exp(M,k):\n",
    "    eig_values, eig_vectors = lag.eig(M)\n",
    "    N = eig_vectors\n",
    "    v = len(eig_vectors)\n",
    "    Ninv = lag.inv(N)\n",
    "    empty_rix = [([0]*v) for i in range(v)]\n",
    "    for i in range(v):\n",
    "        empty_rix[i][i] = eig_values[i]\n",
    "    ello = np.array(empty_rix)\n",
    "    D = diag_exp(ello,k)\n",
    "    a = np.dot(N,D)\n",
    "    b = np.dot(a,Ninv)\n",
    "    return b"
   ]
  },
  {
   "cell_type": "code",
   "execution_count": 8,
   "metadata": {},
   "outputs": [],
   "source": [
    "# Tests\n",
    "E1 = np.array([[0.28106291, 0.51904762, 0.64148366, 0.34731372],\n",
    "               [0.26979199, 0.26259106, 0.06760985, 0.37285164],\n",
    "               [0.52170856, 0.06242276, 0.48040518, 0.05721432],\n",
    "               [0.46227145, 0.61229525, 0.36713064, 0.72517594]])\n",
    "E1_zero = d_matrix_exp(E1,0)\n",
    "E1_exp = d_matrix_exp(E1,10)"
   ]
  },
  {
   "cell_type": "code",
   "execution_count": null,
   "metadata": {},
   "outputs": [],
   "source": []
  }
 ],
 "metadata": {
  "kernelspec": {
   "display_name": "Python 3",
   "language": "python",
   "name": "python3"
  },
  "language_info": {
   "codemirror_mode": {
    "name": "ipython",
    "version": 3
   },
   "file_extension": ".py",
   "mimetype": "text/x-python",
   "name": "python",
   "nbconvert_exporter": "python",
   "pygments_lexer": "ipython3",
   "version": "3.8.5"
  }
 },
 "nbformat": 4,
 "nbformat_minor": 4
}
